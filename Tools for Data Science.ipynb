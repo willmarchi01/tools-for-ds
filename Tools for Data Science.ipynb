{
  "metadata": {
    "language_info": {
      "codemirror_mode": {
        "name": "python",
        "version": 3
      },
      "file_extension": ".py",
      "mimetype": "text/x-python",
      "name": "python",
      "nbconvert_exporter": "python",
      "pygments_lexer": "ipython3",
      "version": "3.8"
    },
    "kernelspec": {
      "name": "python",
      "display_name": "Python (Pyodide)",
      "language": "python"
    }
  },
  "nbformat_minor": 4,
  "nbformat": 4,
  "cells": [
    {
      "cell_type": "markdown",
      "source": "# Introduction",
      "metadata": {}
    },
    {
      "cell_type": "raw",
      "source": "Welcome to my Jupyterlite Notebook for the final project of the Data Science course! In this notebook, we will explore various data science tools, languages, and libraries. We will also perform some arithmetic operations using code cells to illustrate their functionality.",
      "metadata": {}
    },
    {
      "cell_type": "markdown",
      "source": "## Data Science Languages",
      "metadata": {}
    },
    {
      "cell_type": "raw",
      "source": "Python\nR\nSQL",
      "metadata": {}
    },
    {
      "cell_type": "markdown",
      "source": "## Data Science Libraries\n\n",
      "metadata": {}
    },
    {
      "cell_type": "raw",
      "source": "NumPy\nPandas\nMatplotlib\nSeaborn\nScikit-learn",
      "metadata": {}
    },
    {
      "cell_type": "markdown",
      "source": "## Data Science Tools Table\n",
      "metadata": {}
    },
    {
      "cell_type": "markdown",
      "source": "| Tool            | Description                                      |\n|-----------------|--------------------------------------------------|\n| Jupyter Notebook| Interactive computing and data visualization    |\n| VS Code         | Integrated Development Environment (IDE)       |\n| Tableau         | Data visualization and business intelligence   |\n| TensorFlow      | Deep learning framework                         |\n| PyTorch         | Deep learning research platform                 |\n| Excel           | Spreadsheet software for data analysis          |\n| KNIME           | Open-source data analytics, reporting & integration platform |",
      "metadata": {}
    },
    {
      "cell_type": "markdown",
      "source": "## Arithmetic Expression Examples\n",
      "metadata": {}
    },
    {
      "cell_type": "raw",
      "source": "In this section, we will explore some arithmetic expressions using code cells.",
      "metadata": {}
    },
    {
      "cell_type": "markdown",
      "source": "### Multiplication and Addition\n",
      "metadata": {}
    },
    {
      "cell_type": "code",
      "source": "# Multiplication\nnum1 = 5\nnum2 = 10\nresult_multiply = num1 * num2",
      "metadata": {
        "trusted": true
      },
      "execution_count": 3,
      "outputs": []
    },
    {
      "cell_type": "code",
      "source": "# Addition\nnum3 = 7\nnum4 = 3\nresult_add = num3 + num4",
      "metadata": {
        "trusted": true
      },
      "execution_count": 4,
      "outputs": []
    },
    {
      "cell_type": "code",
      "source": "print(f\"Multiplication result: {result_multiply}\")\nprint(f\"Addition result: {result_add}\")",
      "metadata": {
        "trusted": true
      },
      "execution_count": 5,
      "outputs": [
        {
          "name": "stdout",
          "text": "Multiplication result: 50\nAddition result: 10\n",
          "output_type": "stream"
        }
      ]
    },
    {
      "cell_type": "markdown",
      "source": "## Converting Minutes to Hours\n",
      "metadata": {}
    },
    {
      "cell_type": "raw",
      "source": "Let's write a code cell to convert minutes to hours.\n\n",
      "metadata": {}
    },
    {
      "cell_type": "code",
      "source": "def minutes_to_hours(minutes):\n    hours = minutes / 60\n    return hours\n\nminutes = 120\nhours = minutes_to_hours(minutes)\nprint(f\"{minutes} minutes is equal to {hours} hours.\")",
      "metadata": {
        "trusted": true
      },
      "execution_count": 6,
      "outputs": [
        {
          "name": "stdout",
          "text": "120 minutes is equal to 2.0 hours.\n",
          "output_type": "stream"
        }
      ]
    },
    {
      "cell_type": "markdown",
      "source": "## Objectives",
      "metadata": {}
    },
    {
      "cell_type": "raw",
      "source": "Understand data science languages and their applications.\nFamiliarize with data science libraries for data manipulation and visualization.\nExplore various data science tools and their functionalities.\nPerform basic arithmetic operations using code cells.",
      "metadata": {}
    },
    {
      "cell_type": "markdown",
      "source": "## Author\n",
      "metadata": {}
    },
    {
      "cell_type": "raw",
      "source": "This Jupyterlite Notebook is created by Willian Marchi.",
      "metadata": {}
    },
    {
      "cell_type": "code",
      "source": "",
      "metadata": {},
      "execution_count": null,
      "outputs": []
    }
  ]
}